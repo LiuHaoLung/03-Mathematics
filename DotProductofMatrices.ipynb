{
 "cells": [
  {
   "cell_type": "markdown",
   "metadata": {},
   "source": [
    "# Dot Product of Matrices"
   ]
  },
  {
   "cell_type": "markdown",
   "metadata": {},
   "source": [
    "Multiply a matrix with another matirx using the same concept the dot product, it can multiply two matrices, there is a compatibility measure too, it can only multiply a matrix of dimensions m by n with an n by k matrix, basically the second dimension of the first matirx has to match the first dimension of the second matrix, so it can multiply a 2 by 3 matirx with a 3 by 1 matrix, actually it can multiply it by a 3 by 2, 3 by 3, 3 by 4 and so on until the 3 by k matric, what's important is that those 3 are matching.\n",
    "\n",
    "Similarly if I want to multiply a 5 by 7 matrix compatible matrices for multiplication are 7 by 1, 7 by 2, 7 by 7 and so on.\n",
    "\n",
    "When multiplying an m by n matrix with n by k matrix, the output is m by k matrix, for instance a 2 by 3 matrix . 3 by 6 matrix, it will give a 2 by 6 matrix and the 3 by 4 matrix . 4 by 2 matirx, it will give a 3 by 2 matrix or the 100 by 300 matrix . 300 by 3 matrix, it will give a 100 by 3 matrix, so basically whichevey dimension is repeating will disappear in the resulting.\n",
    "___\n",
    "\n",
    "#### How do actually multiply matrices ?\n",
    "\n",
    "There are two matrix, A and B, actually these are two vectors or 3 by 1 matrices, in order to multiply them they need to have matching forms, to find their dot product, it can transpose the first one A and get a 1 by 3 matrix, this is done because when we have a dot product, we always multiply a row vector * column vector, the result of this multiplication is a 1 by 1 form or a scalar, it means reached this scalar by multiplying the corresponding elements and summing everything up.\n",
    "\n",
    "A is:\n",
    "\n",
    "$$\n",
    "\\left[\n",
    " \\begin{matrix}\n",
    "   2\\\\\n",
    "   8\\\\\n",
    "   -4\\\\\n",
    "  \\end{matrix} \n",
    "\\right]\n",
    "$$\n",
    "\n",
    "B is:\n",
    "\n",
    "$$\n",
    "\\left[\n",
    " \\begin{matrix}\n",
    "   1\\\\\n",
    "   -7\\\\\n",
    "   3\\\\\n",
    "  \\end{matrix} \n",
    "\\right]\n",
    "$$\n",
    "\n",
    "Transpose A:\n",
    "\n",
    "$$\n",
    "\\left[\n",
    " \\begin{matrix}\n",
    "   2 & 8 & -4\\\\\n",
    "  \\end{matrix} \n",
    "\\right]\n",
    "$$\n",
    "\n",
    "Transpose A . B:\n",
    "\n",
    "$$\n",
    "\\left[\n",
    " \\begin{matrix}\n",
    "   -66\\\\\n",
    "  \\end{matrix} \n",
    "\\right]\n",
    "$$\n",
    "___\n",
    "\n",
    "Take two matrices and multiply them, there are two matrices A and B, the A matrices is 2 by 3, the B matrices is 3 by 2.\n",
    "\n",
    "The first thing need to do is check their compatibility, 2 by 3 * 3 by 2, so the forming is matching, the next step is find the shape of the output matrix, the maching dimesion disappears, so the result is 2 by 2, finally it must do that multiplication itself, there are two important things, matrices are nothing more than a collection of vectors, when it have a dot product, it always multiply a row vector times a column vector.\n",
    "\n",
    "When A . B, it need to find the dot product of the vectors that made of, it means divid the two matrices into two vectors, so the result is below, notice that the row vectors from the first matirx determine the row and the output matrix in the same way, the column vectors from the second matrix determine the column of the respective value.\n",
    "\n",
    "\n",
    "A is:\n",
    "\n",
    "$$\n",
    "\\left[\n",
    " \\begin{matrix}\n",
    "   5 & 12 & 6\\\\\n",
    "   -3 & 0 & 14\\\\\n",
    "  \\end{matrix} \n",
    "\\right]\n",
    "$$\n",
    "\n",
    "B is:\n",
    "\n",
    "$$\n",
    "\\left[\n",
    " \\begin{matrix}\n",
    "   2 & -1\\\\\n",
    "   8 & 0\\\\\n",
    "   3 & 0\\\\\n",
    "  \\end{matrix} \n",
    "\\right]\n",
    "$$\n",
    "\n",
    "A . B:\n",
    "\n",
    "$$\n",
    "\\left[\n",
    " \\begin{matrix}\n",
    "   5 * 2 + 12 * 8 + 6 * 3 & 5 * -1 + 12 * 0 + 6 * 0 \\\\\n",
    "   -3 * 2 + 0 * 8 + 14 * 3 & -3 * -1 + 12 * 0 + 14 * 0\\\\\n",
    "  \\end{matrix} \n",
    "\\right]\n",
    "$$\n",
    "\n",
    "___\n",
    "\n",
    "If there are two matrices, A is 3 by 4, B is 2 by 3, then it want to have a dot product result, in face it's nothing to, because the two matrices are not compatible, so there is no way to do the dot product."
   ]
  },
  {
   "cell_type": "code",
   "execution_count": 1,
   "metadata": {},
   "outputs": [],
   "source": [
    "import numpy as np"
   ]
  },
  {
   "cell_type": "markdown",
   "metadata": {},
   "source": [
    "#### Scalar * matrix"
   ]
  },
  {
   "cell_type": "code",
   "execution_count": 2,
   "metadata": {},
   "outputs": [
    {
     "data": {
      "text/plain": [
       "array([[ 5, 12,  6],\n",
       "       [-3,  0, 14]])"
      ]
     },
     "execution_count": 2,
     "metadata": {},
     "output_type": "execute_result"
    }
   ],
   "source": [
    "A = np.array([[5,12,6],[-3,0,14]])\n",
    "A"
   ]
  },
  {
   "cell_type": "code",
   "execution_count": 3,
   "metadata": {},
   "outputs": [
    {
     "data": {
      "text/plain": [
       "array([[15, 36, 18],\n",
       "       [-9,  0, 42]])"
      ]
     },
     "execution_count": 3,
     "metadata": {},
     "output_type": "execute_result"
    }
   ],
   "source": [
    "# the shape of matrix doesn't change, it just get scaled\n",
    "# it keep the shape and multiply each element by three\n",
    "\n",
    "3 * A"
   ]
  },
  {
   "cell_type": "markdown",
   "metadata": {},
   "source": [
    "#### Matrix * matrix"
   ]
  },
  {
   "cell_type": "code",
   "execution_count": 4,
   "metadata": {},
   "outputs": [
    {
     "data": {
      "text/plain": [
       "array([[ 2, -1],\n",
       "       [ 8,  0],\n",
       "       [ 3,  0]])"
      ]
     },
     "execution_count": 4,
     "metadata": {},
     "output_type": "execute_result"
    }
   ],
   "source": [
    "B = np.array([[2,-1],[8,0],[3,0]])\n",
    "B"
   ]
  },
  {
   "cell_type": "code",
   "execution_count": 5,
   "metadata": {},
   "outputs": [
    {
     "data": {
      "text/plain": [
       "array([[124,  -5],\n",
       "       [ 36,   3]])"
      ]
     },
     "execution_count": 5,
     "metadata": {},
     "output_type": "execute_result"
    }
   ],
   "source": [
    "np.dot(A,B)"
   ]
  },
  {
   "cell_type": "code",
   "execution_count": 6,
   "metadata": {},
   "outputs": [
    {
     "data": {
      "text/plain": [
       "array([[-12,   5,  -5,   1,   6],\n",
       "       [  6,  -2,   0,   0,  -3],\n",
       "       [ 10,   2,   0,   8,   0],\n",
       "       [  9,  -4,   8,   3,  -6]])"
      ]
     },
     "execution_count": 6,
     "metadata": {},
     "output_type": "execute_result"
    }
   ],
   "source": [
    "C = np.array([[-12,5,-5,1,6],[6,-2,0,0,-3],[10,2,0,8,0],[9,-4,8,3,-6]])\n",
    "C"
   ]
  },
  {
   "cell_type": "code",
   "execution_count": 7,
   "metadata": {},
   "outputs": [
    {
     "data": {
      "text/plain": [
       "array([[ 6, -1],\n",
       "       [ 8, -4],\n",
       "       [ 2, -2],\n",
       "       [ 7,  4],\n",
       "       [-6, -9]])"
      ]
     },
     "execution_count": 7,
     "metadata": {},
     "output_type": "execute_result"
    }
   ],
   "source": [
    "D = np.array([[6,-1],[8,-4],[2,-2],[7,4],[-6,-9]])\n",
    "D"
   ]
  },
  {
   "cell_type": "code",
   "execution_count": 8,
   "metadata": {},
   "outputs": [
    {
     "data": {
      "text/plain": [
       "array([[-71, -48],\n",
       "       [ 38,  29],\n",
       "       [132,  14],\n",
       "       [ 95,  57]])"
      ]
     },
     "execution_count": 8,
     "metadata": {},
     "output_type": "execute_result"
    }
   ],
   "source": [
    "np.dot(C,D)"
   ]
  },
  {
   "cell_type": "code",
   "execution_count": null,
   "metadata": {},
   "outputs": [],
   "source": []
  }
 ],
 "metadata": {
  "kernelspec": {
   "display_name": "Python 3",
   "language": "python",
   "name": "python3"
  },
  "language_info": {
   "codemirror_mode": {
    "name": "ipython",
    "version": 3
   },
   "file_extension": ".py",
   "mimetype": "text/x-python",
   "name": "python",
   "nbconvert_exporter": "python",
   "pygments_lexer": "ipython3",
   "version": "3.7.4"
  }
 },
 "nbformat": 4,
 "nbformat_minor": 2
}
