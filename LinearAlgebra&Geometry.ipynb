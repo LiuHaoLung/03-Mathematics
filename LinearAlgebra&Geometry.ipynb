{
 "cells": [
  {
   "cell_type": "markdown",
   "metadata": {},
   "source": [
    "# Linear Algebra & Geometry"
   ]
  },
  {
   "cell_type": "markdown",
   "metadata": {},
   "source": [
    "Mathematics works based on analogies with linear algebra that's extremely relevant.\n",
    "\n",
    "The scalar has no dimensions, the geometry idea of a point, a point is obviously the simplest object in terms of geometry, it has no direction, nor size, so the scalar is like a point.\n",
    "\n",
    "The vector has one dimension, it is like a line, however it has a direction, it can be oriented in many ways.\n",
    "\n",
    "The only way to get from a line to a plane is by crossing it with another line, so two dimensional space is defined by two lines, well two lines means two vectors and in linear algebra a matrix is a collection of vectors, therefore any two dimensional plane can be represented by a matrix."
   ]
  }
 ],
 "metadata": {
  "kernelspec": {
   "display_name": "Python 3",
   "language": "python",
   "name": "python3"
  },
  "language_info": {
   "codemirror_mode": {
    "name": "ipython",
    "version": 3
   },
   "file_extension": ".py",
   "mimetype": "text/x-python",
   "name": "python",
   "nbconvert_exporter": "python",
   "pygments_lexer": "ipython3",
   "version": "3.7.4"
  }
 },
 "nbformat": 4,
 "nbformat_minor": 2
}
