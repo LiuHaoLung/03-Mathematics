{
 "cells": [
  {
   "cell_type": "markdown",
   "metadata": {},
   "source": [
    "# Scalars & Vectors"
   ]
  },
  {
   "cell_type": "markdown",
   "metadata": {},
   "source": [
    "#### Scalar\n",
    "\n",
    "Matrices are two dimensional objects by definition as they have rows and columns, however there are specific cases of matrices which are also widely, uesd one of them is overwhelmingly common a matrix with one row and one column, naturally it contains a single element that is called a scalar, it look likes below.\n",
    "\n",
    "$$\n",
    "\\left[\n",
    " \\begin{matrix}\n",
    "   a11\\\\\n",
    "  \\end{matrix} \n",
    "\\right]\n",
    "$$\n",
    "\n",
    "In fact all numbers from algebra are referred to as scalars in linear algebra, since scalars are object with no dimensions.\n",
    "___\n",
    "\n",
    "#### Vector\n",
    "\n",
    "Vectors are also very common objects in linear algebra, it said somewhere between scalars and matrices as they have one dimension, it look likes below, notice that this vector is nothing more than a three by one matrix, its single dimension is the number of rows it has, since a scalar is basically a number, a vector is practically the simplest linear algebraic object dut to the many applications of vectors, they have this special name and are often examined as a separate object, moreover it is more common to view a matrix as a collection of vectors rather than a vector as a special case of matrix.\n",
    "\n",
    "There are two types of vectors, row vectors and column vectors, often we are interested in the number of elements of vector contains, we refet to that number as the length of the vector, in the example vector has a length of three, in general case of vectors length can be designated as m, so a column vector would have dimensions m by 1 and the row vector 1 by m, regarding the notation, the element of a vector x would be x1, x2 until xm.\n",
    "\n",
    "\n",
    "$$\n",
    "\\left[\n",
    " \\begin{matrix}\n",
    "   5\\\\\n",
    "   -2\\\\\n",
    "   4\\\\\n",
    "  \\end{matrix} \n",
    "\\right]\n",
    "$$\n",
    "\n",
    "___\n",
    "\n",
    "#### Summary\n",
    "\n",
    "It have matrices that have two dimentions m by n, vetctors that have a singel dimension m by 1, scalars that have no dimension 1 by 1."
   ]
  },
  {
   "cell_type": "code",
   "execution_count": null,
   "metadata": {},
   "outputs": [],
   "source": []
  }
 ],
 "metadata": {
  "kernelspec": {
   "display_name": "Python 3",
   "language": "python",
   "name": "python3"
  },
  "language_info": {
   "codemirror_mode": {
    "name": "ipython",
    "version": 3
   },
   "file_extension": ".py",
   "mimetype": "text/x-python",
   "name": "python",
   "nbconvert_exporter": "python",
   "pygments_lexer": "ipython3",
   "version": "3.7.4"
  }
 },
 "nbformat": 4,
 "nbformat_minor": 2
}
