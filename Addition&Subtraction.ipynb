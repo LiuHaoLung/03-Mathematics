{
 "cells": [
  {
   "cell_type": "markdown",
   "metadata": {},
   "source": [
    "# Addition & Subtraction"
   ]
  },
  {
   "cell_type": "markdown",
   "metadata": {},
   "source": [
    "#### Addition\n",
    "\n",
    "Addition, it is an extremely easy opertation, there is only one condition, the two matrices must have the same dimensions.\n",
    "\n",
    "The m1 matrix is:\n",
    "\n",
    "$$\n",
    "\\left[\n",
    " \\begin{matrix}\n",
    "   5 & 12 & 6\\\\\n",
    "   -3 & 0 & 14\\\\\n",
    "  \\end{matrix} \n",
    "\\right]\n",
    "$$\n",
    "\n",
    "The m2 matrix is:\n",
    "\n",
    "$$\n",
    "\\left[\n",
    " \\begin{matrix}\n",
    "   9 & 8 & 7\\\\\n",
    "   1 & 3 & -5\\\\\n",
    "  \\end{matrix} \n",
    "\\right]\n",
    "$$\n",
    "\n",
    "It can see they are both 2 by 3 matrices, if want to add that two, all I need to do is add the corresponding entries one with the other.\n",
    "\n",
    "So the result is the new 2 by 3 matirx:\n",
    "\n",
    "$$\n",
    "\\left[\n",
    " \\begin{matrix}\n",
    "   5+9 & 12+8 & 6+7\\\\\n",
    "   -3+1 & 0+3 & 14-5\\\\\n",
    "  \\end{matrix} \n",
    "\\right]\n",
    "$$\n",
    "\n",
    "___\n",
    "\n",
    "#### Subtraction\n",
    "\n",
    "Subtraction is just a type of addition, so the same rule apply there.\n",
    "\n",
    "The m1 matrix is:\n",
    "\n",
    "$$\n",
    "\\left[\n",
    " \\begin{matrix}\n",
    "   5 & 3\\\\\n",
    "   -2 & 4\\\\\n",
    "  \\end{matrix} \n",
    "\\right]\n",
    "$$\n",
    "\n",
    "The m2 matrix is:\n",
    "\n",
    "$$\n",
    "\\left[\n",
    " \\begin{matrix}\n",
    "   7 & -5\\\\\n",
    "   3 & 8\\\\\n",
    "  \\end{matrix} \n",
    "\\right]\n",
    "$$\n",
    "\n",
    "So the result is the new 2 by 2 matirx:\n",
    "\n",
    "$$\n",
    "\\left[\n",
    " \\begin{matrix}\n",
    "   5-7 & 3+5\\\\\n",
    "   -2-3 & 4-8\\\\\n",
    "  \\end{matrix} \n",
    "\\right]\n",
    "$$\n",
    "\n",
    "____\n",
    "\n",
    "#### Addition or Subtraction of vectors\n",
    "\n",
    "Since vectors are nothing more than one dimensional matrices, same rule apply, with vectors, we only care about the length, the two vectors have the same length, so it can calculate."
   ]
  },
  {
   "cell_type": "code",
   "execution_count": 1,
   "metadata": {},
   "outputs": [],
   "source": [
    "import numpy as np"
   ]
  },
  {
   "cell_type": "markdown",
   "metadata": {},
   "source": [
    "#### Addition"
   ]
  },
  {
   "cell_type": "code",
   "execution_count": 2,
   "metadata": {},
   "outputs": [
    {
     "data": {
      "text/plain": [
       "array([[ 5, 12,  6],\n",
       "       [-3,  0, 14]])"
      ]
     },
     "execution_count": 2,
     "metadata": {},
     "output_type": "execute_result"
    }
   ],
   "source": [
    "m1 = np.array([[5,12,6],[-3,0,14]])\n",
    "m1"
   ]
  },
  {
   "cell_type": "code",
   "execution_count": 3,
   "metadata": {},
   "outputs": [
    {
     "data": {
      "text/plain": [
       "array([[ 9,  8,  7],\n",
       "       [ 1,  3, -5]])"
      ]
     },
     "execution_count": 3,
     "metadata": {},
     "output_type": "execute_result"
    }
   ],
   "source": [
    "m2 = np.array([[9,8,7],[1,3,-5]])\n",
    "m2"
   ]
  },
  {
   "cell_type": "code",
   "execution_count": 4,
   "metadata": {},
   "outputs": [
    {
     "data": {
      "text/plain": [
       "array([[14, 20, 13],\n",
       "       [-2,  3,  9]])"
      ]
     },
     "execution_count": 4,
     "metadata": {},
     "output_type": "execute_result"
    }
   ],
   "source": [
    "m1 + m2"
   ]
  },
  {
   "cell_type": "markdown",
   "metadata": {},
   "source": [
    "#### Subtraction"
   ]
  },
  {
   "cell_type": "code",
   "execution_count": 5,
   "metadata": {},
   "outputs": [
    {
     "data": {
      "text/plain": [
       "array([[ 5,  3],\n",
       "       [-2,  4]])"
      ]
     },
     "execution_count": 5,
     "metadata": {},
     "output_type": "execute_result"
    }
   ],
   "source": [
    "m1 = np.array([[5,3],[-2,4]])\n",
    "m1"
   ]
  },
  {
   "cell_type": "code",
   "execution_count": 6,
   "metadata": {},
   "outputs": [
    {
     "data": {
      "text/plain": [
       "array([[ 7, -5],\n",
       "       [ 3,  8]])"
      ]
     },
     "execution_count": 6,
     "metadata": {},
     "output_type": "execute_result"
    }
   ],
   "source": [
    "m2 = np.array([[7,-5],[3,8]])\n",
    "m2"
   ]
  },
  {
   "cell_type": "code",
   "execution_count": 7,
   "metadata": {},
   "outputs": [
    {
     "data": {
      "text/plain": [
       "array([[-2,  8],\n",
       "       [-5, -4]])"
      ]
     },
     "execution_count": 7,
     "metadata": {},
     "output_type": "execute_result"
    }
   ],
   "source": [
    "m1 - m2"
   ]
  },
  {
   "cell_type": "code",
   "execution_count": null,
   "metadata": {},
   "outputs": [],
   "source": []
  }
 ],
 "metadata": {
  "kernelspec": {
   "display_name": "Python 3",
   "language": "python",
   "name": "python3"
  },
  "language_info": {
   "codemirror_mode": {
    "name": "ipython",
    "version": 3
   },
   "file_extension": ".py",
   "mimetype": "text/x-python",
   "name": "python",
   "nbconvert_exporter": "python",
   "pygments_lexer": "ipython3",
   "version": "3.7.4"
  }
 },
 "nbformat": 4,
 "nbformat_minor": 2
}
