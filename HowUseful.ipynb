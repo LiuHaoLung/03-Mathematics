{
 "cells": [
  {
   "cell_type": "markdown",
   "metadata": {},
   "source": [
    "# How Useful"
   ]
  },
  {
   "cell_type": "markdown",
   "metadata": {},
   "source": [
    "#### Why is linear algegbra actually useful ?\n",
    "\n",
    "* Vectorizing code also known as array programming.\n",
    "* Image recognition.\n",
    "* Dimensionality reduction.\n",
    "___\n",
    "\n",
    "#### Vectorized code\n",
    "\n",
    "Example for the house price, the price of house depends on its size and some neighborhood is given by the equation, so the house price equal 10190 + 223 * house size.\n",
    "\n",
    "There are 5 size, 693, 656, 1060, 487, 1275, so plug each size in the equation and find the price of each house.\n",
    "\n",
    "If there are 100 size, that would be tedious, so another way to deal with it is by creating a loop.\n",
    "\n",
    "However, it can use the linear algebra to deal with it, create a 5 by 2 matrix and a vector of length 2, the matirx contains a column of ones and another with the size of houses, the vector contains 10190 and 223, so if we go about multiplying them it will get a vector of length 5, by this it can quickly realize that the resulting vector contains all the manual calculations to find the prices.\n",
    "\n",
    "In machine learning and linear regression in particular, we have a inputs matrix, a weights(coefficients) matrix and the output matrix, moreover the equation doesn't change as it only contain the 2 coefficients.\n",
    "\n",
    "Whenevet using linear algebra to compute many values simultaneously, it call this array programming or vectorizing code, it is important to stress that array programming is much much fast, can use numpy to do this and increases the computational efficiency of code.\n",
    "\n",
    "So it will get 5 by 1:\n",
    "\n",
    "$$\n",
    "\\left[\n",
    " \\begin{matrix}\n",
    "   1 * 10190 + 223 * 693 \\\\\n",
    "   1 * 10190 + 223 * 656 \\\\\n",
    "   1 * 10190 + 223 * 1060 \\\\\n",
    "   1 * 10190 + 223 * 487 \\\\\n",
    "   1 * 10190 + 223 * 1275 \\\\\n",
    "  \\end{matrix} \n",
    "\\right]\n",
    "$$\n",
    "___\n",
    "\n",
    "#### Image recognition\n",
    "\n",
    "Deep learning and deep neural networks in particular Colcord image recognition, on the forefront are convolutional neural networks or CNN.\n",
    "\n",
    "The basic idea is you can take a photo feed it to the algorithm and classify it, the famous examples are the MNIST where the task is to classify handwritten digits, CIFAR 10 where the task is to classify animals and vehicles and so far  CIFAR 100 where you have 100 different classes of images.\n",
    "\n",
    "The problem is that we can't just take a photo and give it to the computer, it must design a way to turn that photo into numbers in order to communicate the image to the computer, here is the linear algebra comes in.\n",
    "\n",
    "Each photo has some dimensions, one photo is 400 by 400 pixels, each pixel and a photo is basically a colored square, given enough pixels and a big enough zoom out causes brain to perceive this as an image rather than a collection of squares.\n",
    "\n",
    "If the photo is 400 by 400, that's a 400 by 400 matrix, each element of that matrix is a number from 0 to 255, it shows the intensity of the color and pixel, that's how the computer sees a photo.\n",
    "\n",
    "If the photo is RGB, instead of a 400 by 400 matirx, it will get a 3 by 400 by 400 tensors, this tensor contains 3 by 400 by 400 matirces, one for each color red, green, blue and that's how deep neural networks work with photos.\n",
    "___\n",
    "\n",
    "\n",
    "#### Dimensionality reduction\n",
    "\n",
    "Imagine have a data set with three variables, visually the data may look like in 3D, in order to represent each of those points, it need to used three values, one for each variables x, y and z, therefore it will dealing with m by 3 matrix, so the point i corresponds to a vector xi, yi and zi, note that those three variables x, y and z are the three axes of this plane, here where it becomes interesting.\n",
    "\n",
    "In some cases, it can find a plane very close to the data, something like 2 dimensional, so it is defined by 2 variables say u and v, in the 2 dimensional not all points lie on this plane, but it can approximately say that they do.\n",
    "\n",
    "Linear algebra provieds with fast and efficient ways to transform the initial matrix from m by 3(x,y,z) into a new matrix which is m by 2(u,v), in this way instead of having three variables, it reduce the problem to 2 variables.\n",
    "\n",
    "In fact, if you have 50 variables it can reduce them to 40 or 20 or even 10, how does that relate to the real world, imagine a survey where there is a total of 50 questions, when the different questions are measure one thing, it can combime them, that's where dimensionality reduction techniques and linear algebra come in, very very often it have too many variables that are not so different, so it can reduce the complexity of the problem by reducing the number of variables."
   ]
  },
  {
   "cell_type": "code",
   "execution_count": null,
   "metadata": {},
   "outputs": [],
   "source": []
  }
 ],
 "metadata": {
  "kernelspec": {
   "display_name": "Python 3",
   "language": "python",
   "name": "python3"
  },
  "language_info": {
   "codemirror_mode": {
    "name": "ipython",
    "version": 3
   },
   "file_extension": ".py",
   "mimetype": "text/x-python",
   "name": "python",
   "nbconvert_exporter": "python",
   "pygments_lexer": "ipython3",
   "version": "3.7.4"
  }
 },
 "nbformat": 4,
 "nbformat_minor": 2
}
