{
 "cells": [
  {
   "cell_type": "markdown",
   "metadata": {},
   "source": [
    "# Matrix"
   ]
  },
  {
   "cell_type": "markdown",
   "metadata": {},
   "source": [
    "A matrix is a collection of numbers ordered in rows and columns, it look likes below, each of these values in an element of the matrix, so this matrix has a total of six elements and it would normally denote a matrix with a capital letter for instance A, so this A matrix has two rows and three columns in linear algebra rows and columns are the two dimensions of the matrix, A has two rows and three columns, so it can say its dimensions are 2 x 3 or better A is a 2-by-3 matrix.\n",
    "\n",
    "$$\n",
    "\\left[\n",
    " \\begin{matrix}\n",
    "   5 & 12 & 6\\\\\n",
    "   -3 & 0 & 14\\\\\n",
    "  \\end{matrix} \n",
    "\\right]\n",
    "$$\n",
    "\n",
    "Matrices seems similar to tables and spreadsheets at first, however the purpose of matrices is not simply to store values but to be main characters in mathematical operations, two matrices can be summed, subtracted, multiplied and divided.\n",
    "\n",
    "A matrix can only contain numbers, symbols or expressions, with the idea that the latter two are nothing more than a generalized representation of numbers.\n",
    "\n",
    "Matrices can be of any size, in the general case, it talking about m x n matrices, if A is m x n matrices, this means that as m rows and n columns, sometimes we need to reference a particular element of A, the elements of A are denoted with a lowercase a and two numbers indicating their respective element position in terms of row and column, for instance aij is the element at position i and j where i is the respective row and j is the respective column.\n",
    "\n",
    "It must note that in most programming languages albeit not all of them arrays start from 0 rather than 1, in Python for instance arrays start from 0"
   ]
  },
  {
   "cell_type": "code",
   "execution_count": null,
   "metadata": {},
   "outputs": [],
   "source": []
  }
 ],
 "metadata": {
  "kernelspec": {
   "display_name": "Python 3",
   "language": "python",
   "name": "python3"
  },
  "language_info": {
   "codemirror_mode": {
    "name": "ipython",
    "version": 3
   },
   "file_extension": ".py",
   "mimetype": "text/x-python",
   "name": "python",
   "nbconvert_exporter": "python",
   "pygments_lexer": "ipython3",
   "version": "3.7.4"
  }
 },
 "nbformat": 4,
 "nbformat_minor": 2
}
